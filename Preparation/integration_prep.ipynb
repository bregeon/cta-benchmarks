{
 "cells": [
  {
   "cell_type": "markdown",
   "metadata": {},
   "source": [
    "# Data preparation for calibration benchmarks"
   ]
  },
  {
   "cell_type": "code",
   "execution_count": null,
   "metadata": {},
   "outputs": [],
   "source": [
    "import numpy as np\n",
    "import matplotlib.pyplot as plt\n",
    "import pandas as pd\n",
    "import seaborn as sns\n",
    "from copy import deepcopy, copy\n",
    "import os\n",
    "\n",
    "from ctapipe.utils import get_dataset_path\n",
    "from ctapipe.io import event_source\n",
    "from ctapipe.calib import CameraCalibrator\n",
    "from ctapipe.visualization import CameraDisplay\n",
    "from ctapipe.io import HDF5TableWriter\n",
    "from ctapipe.io.containers import Container, Field\n"
   ]
  },
  {
   "cell_type": "code",
   "execution_count": null,
   "metadata": {},
   "outputs": [],
   "source": [
    "from IPython.core.display import display, HTML\n",
    "display(HTML(\"<style>.container { width:95% !important; }</style>\"))"
   ]
  },
  {
   "cell_type": "code",
   "execution_count": null,
   "metadata": {},
   "outputs": [],
   "source": [
    "from ctabench.dl1 import true_pe_cleaning, noise_calibrated_image, signal_calibrated_image"
   ]
  },
  {
   "cell_type": "code",
   "execution_count": null,
   "metadata": {},
   "outputs": [],
   "source": [
    "class IntegrationContainer(Container):\n",
    "    true_pe_sum = Field(float, 'true_pe_sum')\n",
    "    true_pe_mean = Field(float, 'true_pe_mean')\n",
    "    calibrated_signal_sum = Field(float, 'calibrated_signal_sum')\n",
    "    calibrated_background_sum = Field(float, 'calibrated_background_sum')\n",
    "    calibrated_signal_mean = Field(float, 'calibrated_signal_mean')\n",
    "    calibrated_background_mean = Field(float, 'calibrated_signal_mean')\n",
    "    \n",
    "\n",
    "def difference_calibrated_pe(calibrated_event, tel_id, channel=0):\n",
    "    \"\"\"\n",
    "    Return the difference between the calibrated signal and the true pe signal\n",
    "    \"\"\"\n",
    "    pe_image = event.mc.tel[tel_id].photo_electron_image\n",
    "    calibrated_image = event.dl1.tel[tel_id].image[channel]\n",
    "    signal_pixels = true_pe_cleaning(pe_image)\n",
    "    diff = pe_image[signal_pixels] - calibrated_image[signal_pixels]\n",
    "    return diff.sum()"
   ]
  },
  {
   "cell_type": "code",
   "execution_count": null,
   "metadata": {},
   "outputs": [],
   "source": [
    "# infile = get_dataset_path('gamma_test_large.simtel.gz')\n",
    "infile = 'gamma_40deg_0deg_run102___cta-prod3-lapalma3-2147m-LaPalma_cone10.simtel.gz'\n",
    "source = event_source(infile, max_events=None)"
   ]
  },
  {
   "cell_type": "code",
   "execution_count": null,
   "metadata": {},
   "outputs": [],
   "source": [
    "integrators = {0: 'NeighbourPeakIntegrator',\n",
    "               1: 'LocalPeakIntegrator',\n",
    "               2: 'FullIntegrator'\n",
    "              }"
   ]
  },
  {
   "cell_type": "code",
   "execution_count": null,
   "metadata": {},
   "outputs": [],
   "source": [
    "int_container = IntegrationContainer()\n",
    "\n",
    "\n",
    "output_filename = 'integration.h5'\n",
    "if os.path.exists(output_filename):\n",
    "    os.remove(output_filename)\n",
    "\n",
    "for ii, integrator in integrators.items():\n",
    "    print(integrator)\n",
    "    \n",
    "    with HDF5TableWriter(output_filename, group_name=integrator, mode='a') as h5_table:\n",
    "\n",
    "        cal = CameraCalibrator(r1_product='HESSIOR1Calibrator',\n",
    "                           extractor_product=integrator)\n",
    "\n",
    "        for event in source:\n",
    "            cal.calibrate(event)\n",
    "            diff_sum = 0\n",
    "            for tel_id in event.r0.tels_with_data:\n",
    "                \n",
    "                camera = event.inst.subarray.tel[tel_id].camera\n",
    "                diff_sum += difference_calibrated_pe(event, tel_id)\n",
    "                true_signal = event.mc.tel[tel_id].photo_electron_image\n",
    "                image = event.dl1.tel[tel_id].image[0]\n",
    "                signal = image[true_signal>0]\n",
    "                background = image[true_signal==0]\n",
    "                \n",
    "                int_container.true_pe_sum = true_signal.sum()\n",
    "                int_container.true_pe_mean = true_signal.mean()\n",
    "                int_container.calibrated_signal_sum = signal.sum()\n",
    "                int_container.calibrated_signal_mean = signal.mean()\n",
    "                int_container.calibrated_background_sum = background.sum()\n",
    "                int_container.calibrated_background_mean = background.mean()\n",
    "                \n",
    "                h5_table.write(camera.cam_id, [event.r0, event.mc, int_container])\n"
   ]
  }
 ],
 "metadata": {
  "kernelspec": {
   "display_name": "Python 3",
   "language": "python",
   "name": "python3"
  },
  "language_info": {
   "codemirror_mode": {
    "name": "ipython",
    "version": 3
   },
   "file_extension": ".py",
   "mimetype": "text/x-python",
   "name": "python",
   "nbconvert_exporter": "python",
   "pygments_lexer": "ipython3",
   "version": "3.6.7"
  }
 },
 "nbformat": 4,
 "nbformat_minor": 2
}
